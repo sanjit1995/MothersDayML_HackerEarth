{
  "nbformat": 4,
  "nbformat_minor": 0,
  "metadata": {
    "colab": {
      "name": "MothersDayML_HE.ipynb",
      "provenance": [],
      "collapsed_sections": [],
      "mount_file_id": "1rKaF9Ctz-aJ_JXlcwdMWGPtIa4wECSjJ",
      "authorship_tag": "ABX9TyOIChFC9yBLzFfF2DPpC+V9",
      "include_colab_link": true
    },
    "kernelspec": {
      "name": "python3",
      "display_name": "Python 3"
    }
  },
  "cells": [
    {
      "cell_type": "markdown",
      "metadata": {
        "id": "view-in-github",
        "colab_type": "text"
      },
      "source": [
        "<a href=\"https://colab.research.google.com/github/sanjit1995/MothersDayML_HackerEarth/blob/master/MothersDayML_HE.ipynb\" target=\"_parent\"><img src=\"https://colab.research.google.com/assets/colab-badge.svg\" alt=\"Open In Colab\"/></a>"
      ]
    },
    {
      "cell_type": "code",
      "metadata": {
        "id": "LPktcsuBFQfC",
        "colab_type": "code",
        "colab": {}
      },
      "source": [
        "import pandas as pd\n",
        "import re\n",
        "import numpy as np"
      ],
      "execution_count": 0,
      "outputs": []
    },
    {
      "cell_type": "markdown",
      "metadata": {
        "id": "7OeggwbTZCoq",
        "colab_type": "text"
      },
      "source": [
        "read data and separate"
      ]
    },
    {
      "cell_type": "code",
      "metadata": {
        "id": "GRmhds9oCFsA",
        "colab_type": "code",
        "colab": {}
      },
      "source": [
        "train = pd.read_csv(\"/content/drive/My Drive/Colab Notebooks/data/MothersDayML_HE/train.csv\")\n",
        "test = pd.read_csv(\"/content/drive/My Drive/Colab Notebooks/data/MothersDayML_HE/test.csv\")"
      ],
      "execution_count": 0,
      "outputs": []
    },
    {
      "cell_type": "code",
      "metadata": {
        "id": "F8QSy_F8FcJH",
        "colab_type": "code",
        "colab": {}
      },
      "source": [
        "train['sentiment_class'].value_counts()"
      ],
      "execution_count": 0,
      "outputs": []
    },
    {
      "cell_type": "code",
      "metadata": {
        "id": "PLroKDmBNLkU",
        "colab_type": "code",
        "colab": {}
      },
      "source": [
        "pd.crosstab(index = train['sentiment_class'], columns=\"Total count\")"
      ],
      "execution_count": 0,
      "outputs": []
    },
    {
      "cell_type": "code",
      "metadata": {
        "id": "S2GAh-ZyMYSF",
        "colab_type": "code",
        "colab": {}
      },
      "source": [
        "train.isnull().sum()"
      ],
      "execution_count": 0,
      "outputs": []
    },
    {
      "cell_type": "code",
      "metadata": {
        "id": "EphpwvuEIVGM",
        "colab_type": "code",
        "colab": {}
      },
      "source": [
        "x_data = train.loc[:, ['original_text']]\n",
        "y_data = train['sentiment_class']"
      ],
      "execution_count": 0,
      "outputs": []
    },
    {
      "cell_type": "code",
      "metadata": {
        "id": "s16YqeiEjY0x",
        "colab_type": "code",
        "colab": {}
      },
      "source": [
        "test_data = test.loc[:, ['original_text']]"
      ],
      "execution_count": 0,
      "outputs": []
    },
    {
      "cell_type": "code",
      "metadata": {
        "id": "vcWg3U2xLCpg",
        "colab_type": "code",
        "outputId": "ef54cd7a-17a4-4de3-c226-0a9d90d0cceb",
        "colab": {
          "base_uri": "https://localhost:8080/",
          "height": 34
        }
      },
      "source": [
        "x_data.shape"
      ],
      "execution_count": 5,
      "outputs": [
        {
          "output_type": "execute_result",
          "data": {
            "text/plain": [
              "(3235, 1)"
            ]
          },
          "metadata": {
            "tags": []
          },
          "execution_count": 5
        }
      ]
    },
    {
      "cell_type": "code",
      "metadata": {
        "id": "KPnReTOsLMBE",
        "colab_type": "code",
        "outputId": "c5c21514-230e-43f9-b895-340db996c0ac",
        "colab": {
          "base_uri": "https://localhost:8080/",
          "height": 34
        }
      },
      "source": [
        "y_data.shape"
      ],
      "execution_count": 6,
      "outputs": [
        {
          "output_type": "execute_result",
          "data": {
            "text/plain": [
              "(3235,)"
            ]
          },
          "metadata": {
            "tags": []
          },
          "execution_count": 6
        }
      ]
    },
    {
      "cell_type": "code",
      "metadata": {
        "id": "UOWmaspFjost",
        "colab_type": "code",
        "colab": {
          "base_uri": "https://localhost:8080/",
          "height": 34
        },
        "outputId": "69071cff-aecb-4f08-8070-7ec46e7d47ed"
      },
      "source": [
        "test_data.shape"
      ],
      "execution_count": 25,
      "outputs": [
        {
          "output_type": "execute_result",
          "data": {
            "text/plain": [
              "(1387, 1)"
            ]
          },
          "metadata": {
            "tags": []
          },
          "execution_count": 25
        }
      ]
    },
    {
      "cell_type": "markdown",
      "metadata": {
        "id": "1bBeuKAsZGZ1",
        "colab_type": "text"
      },
      "source": [
        "remove web urls from the texts and special characters except # and '"
      ]
    },
    {
      "cell_type": "markdown",
      "metadata": {
        "id": "e7wxdAeojtzN",
        "colab_type": "text"
      },
      "source": [
        "for train"
      ]
    },
    {
      "cell_type": "code",
      "metadata": {
        "id": "U1L5S_5NRkmS",
        "colab_type": "code",
        "colab": {}
      },
      "source": [
        "x_data['new_text'] = x_data['original_text'].str.replace(r'http\\S+', '', regex=True).replace(r'www\\S+', '', regex=True).replace(r'pic.\\S+', '', regex=True).replace(r'photos.app\\S+', '', regex=True).replace(r'twitter.com\\S+', '', regex=True)"
      ],
      "execution_count": 0,
      "outputs": []
    },
    {
      "cell_type": "code",
      "metadata": {
        "id": "EZU_Hv1AOvkI",
        "colab_type": "code",
        "colab": {}
      },
      "source": [
        "x_data['new_text'] = x_data['new_text'].map(lambda x: re.sub(r'[^A-Za-z\\s\\#\\']+', '', x))"
      ],
      "execution_count": 0,
      "outputs": []
    },
    {
      "cell_type": "markdown",
      "metadata": {
        "id": "eQpfwpdOjv0c",
        "colab_type": "text"
      },
      "source": [
        "for test"
      ]
    },
    {
      "cell_type": "code",
      "metadata": {
        "id": "f0QmPifqjss1",
        "colab_type": "code",
        "colab": {}
      },
      "source": [
        "test_data['new_text'] = test_data['original_text'].str.replace(r'http\\S+', '', regex=True).replace(r'www\\S+', '', regex=True).replace(r'pic.\\S+', '', regex=True).replace(r'photos.app\\S+', '', regex=True).replace(r'twitter.com\\S+', '', regex=True)"
      ],
      "execution_count": 0,
      "outputs": []
    },
    {
      "cell_type": "code",
      "metadata": {
        "id": "DRMQPFgCjyK2",
        "colab_type": "code",
        "colab": {}
      },
      "source": [
        "test_data['new_text'] = test_data['new_text'].map(lambda x: re.sub(r'[^A-Za-z\\s\\#\\']+', '', x))"
      ],
      "execution_count": 0,
      "outputs": []
    },
    {
      "cell_type": "code",
      "metadata": {
        "id": "nMzHrtyhQE8Q",
        "colab_type": "code",
        "colab": {}
      },
      "source": [
        "pd.set_option('display.max_colwidth', None)\n",
        "x_data.head(3)"
      ],
      "execution_count": 0,
      "outputs": []
    },
    {
      "cell_type": "code",
      "metadata": {
        "id": "pQ0LjC34kboy",
        "colab_type": "code",
        "colab": {}
      },
      "source": [
        "test_data.head(3)"
      ],
      "execution_count": 0,
      "outputs": []
    },
    {
      "cell_type": "markdown",
      "metadata": {
        "id": "ErIJk2dRlEJW",
        "colab_type": "text"
      },
      "source": [
        "fit_transform the train_data"
      ]
    },
    {
      "cell_type": "code",
      "metadata": {
        "id": "rau-1_ELcSZT",
        "colab_type": "code",
        "colab": {}
      },
      "source": [
        "from sklearn.feature_extraction.text import TfidfVectorizer\n",
        "tfidf_vectorizer = TfidfVectorizer(\n",
        "    min_df=1,  # min count for relevant vocabulary\n",
        "    max_features=2500,  # maximum number of features\n",
        "    strip_accents='unicode',  # replace all accented unicode char \n",
        "    # by their corresponding  ASCII char\n",
        "    analyzer='word',  # features made of words\n",
        "    token_pattern=r'\\w{1,}',  # tokenize only words of 4+ chars\n",
        "    ngram_range=(1, 1),  # features made of a single tokens\n",
        "    use_idf=True,  # enable inverse-document-frequency reweighting\n",
        "    smooth_idf=True,  # prevents zero division for unseen words\n",
        "    sublinear_tf=False)\n",
        "\n",
        "tfidf_df = tfidf_vectorizer.fit_transform(x_data['new_text'])"
      ],
      "execution_count": 0,
      "outputs": []
    },
    {
      "cell_type": "markdown",
      "metadata": {
        "id": "EjXaEfDglIJr",
        "colab_type": "text"
      },
      "source": [
        "just transform the test_data according to train_data"
      ]
    },
    {
      "cell_type": "code",
      "metadata": {
        "id": "T9mZUES2k3pw",
        "colab_type": "code",
        "colab": {}
      },
      "source": [
        "x_test = tfidf_vectorizer.transform(test_data['new_text'])"
      ],
      "execution_count": 0,
      "outputs": []
    },
    {
      "cell_type": "code",
      "metadata": {
        "id": "JRI4COOfcZYC",
        "colab_type": "code",
        "colab": {}
      },
      "source": [
        "tfidf_vectorizer.get_feature_names()"
      ],
      "execution_count": 0,
      "outputs": []
    },
    {
      "cell_type": "code",
      "metadata": {
        "id": "4draYHmeiQeS",
        "colab_type": "code",
        "colab": {}
      },
      "source": [
        "tfidf_df"
      ],
      "execution_count": 0,
      "outputs": []
    },
    {
      "cell_type": "code",
      "metadata": {
        "id": "_DEeigu0iZAj",
        "colab_type": "code",
        "colab": {}
      },
      "source": [
        "x_train = tfidf_df.copy()\n",
        "y_train = y_data.copy()"
      ],
      "execution_count": 0,
      "outputs": []
    },
    {
      "cell_type": "markdown",
      "metadata": {
        "id": "OOwoGwBTrNvb",
        "colab_type": "text"
      },
      "source": [
        "do oversampling"
      ]
    },
    {
      "cell_type": "code",
      "metadata": {
        "id": "l32EDiy1rNHy",
        "colab_type": "code",
        "colab": {}
      },
      "source": [
        "from imblearn.combine import SMOTETomek\n",
        "smk = SMOTETomek(sampling_strategy='not majority', random_state=42)\n",
        "X_res,Y_res=smk.fit_sample(x_train,y_train)"
      ],
      "execution_count": 0,
      "outputs": []
    },
    {
      "cell_type": "code",
      "metadata": {
        "id": "l5gOtWCItdYz",
        "colab_type": "code",
        "colab": {
          "base_uri": "https://localhost:8080/",
          "height": 34
        },
        "outputId": "5b7a72fe-6ef6-4777-c2a8-e8234ad50463"
      },
      "source": [
        "X_res.shape"
      ],
      "execution_count": 60,
      "outputs": [
        {
          "output_type": "execute_result",
          "data": {
            "text/plain": [
              "(5055, 2500)"
            ]
          },
          "metadata": {
            "tags": []
          },
          "execution_count": 60
        }
      ]
    },
    {
      "cell_type": "code",
      "metadata": {
        "id": "W7MKsRi5th4K",
        "colab_type": "code",
        "colab": {
          "base_uri": "https://localhost:8080/",
          "height": 34
        },
        "outputId": "6421e7c8-3a09-4ec3-f68b-f6d89d5428da"
      },
      "source": [
        "Y_res.shape"
      ],
      "execution_count": 61,
      "outputs": [
        {
          "output_type": "execute_result",
          "data": {
            "text/plain": [
              "(5055,)"
            ]
          },
          "metadata": {
            "tags": []
          },
          "execution_count": 61
        }
      ]
    },
    {
      "cell_type": "code",
      "metadata": {
        "id": "3L-iSYBRihEa",
        "colab_type": "code",
        "colab": {
          "base_uri": "https://localhost:8080/",
          "height": 34
        },
        "outputId": "8080632d-941a-40d4-caae-5d33d5fad6f0"
      },
      "source": [
        "x_train.shape"
      ],
      "execution_count": 39,
      "outputs": [
        {
          "output_type": "execute_result",
          "data": {
            "text/plain": [
              "(3235, 2500)"
            ]
          },
          "metadata": {
            "tags": []
          },
          "execution_count": 39
        }
      ]
    },
    {
      "cell_type": "code",
      "metadata": {
        "id": "iCLErhm3ikhl",
        "colab_type": "code",
        "colab": {
          "base_uri": "https://localhost:8080/",
          "height": 34
        },
        "outputId": "913cf976-d528-4966-995e-064379277362"
      },
      "source": [
        "y_train.shape"
      ],
      "execution_count": 23,
      "outputs": [
        {
          "output_type": "execute_result",
          "data": {
            "text/plain": [
              "(3235,)"
            ]
          },
          "metadata": {
            "tags": []
          },
          "execution_count": 23
        }
      ]
    },
    {
      "cell_type": "code",
      "metadata": {
        "id": "2PHGTWaTjOdJ",
        "colab_type": "code",
        "colab": {
          "base_uri": "https://localhost:8080/",
          "height": 34
        },
        "outputId": "d62af6ce-750b-46ea-96ea-0f949c8c304d"
      },
      "source": [
        "x_test.shape"
      ],
      "execution_count": 40,
      "outputs": [
        {
          "output_type": "execute_result",
          "data": {
            "text/plain": [
              "(1387, 2500)"
            ]
          },
          "metadata": {
            "tags": []
          },
          "execution_count": 40
        }
      ]
    },
    {
      "cell_type": "markdown",
      "metadata": {
        "id": "oNJH9qZ1l6re",
        "colab_type": "text"
      },
      "source": [
        "Training part"
      ]
    },
    {
      "cell_type": "markdown",
      "metadata": {
        "id": "VEARL0rSukyi",
        "colab_type": "text"
      },
      "source": [
        "using LogisticRegression"
      ]
    },
    {
      "cell_type": "code",
      "metadata": {
        "id": "Vr7iVIOol7_1",
        "colab_type": "code",
        "colab": {
          "base_uri": "https://localhost:8080/",
          "height": 102
        },
        "outputId": "acc6259c-228f-4579-c725-5d07e87d42ef"
      },
      "source": [
        "from sklearn.linear_model import LogisticRegression,SGDClassifier\n",
        "model = LogisticRegression(max_iter=200)\n",
        "model.fit(X_res, Y_res)"
      ],
      "execution_count": 63,
      "outputs": [
        {
          "output_type": "execute_result",
          "data": {
            "text/plain": [
              "LogisticRegression(C=1.0, class_weight=None, dual=False, fit_intercept=True,\n",
              "                   intercept_scaling=1, l1_ratio=None, max_iter=200,\n",
              "                   multi_class='auto', n_jobs=None, penalty='l2',\n",
              "                   random_state=None, solver='lbfgs', tol=0.0001, verbose=0,\n",
              "                   warm_start=False)"
            ]
          },
          "metadata": {
            "tags": []
          },
          "execution_count": 63
        }
      ]
    },
    {
      "cell_type": "markdown",
      "metadata": {
        "id": "6L7G8d3OvsQG",
        "colab_type": "text"
      },
      "source": [
        "using SGDClassifier"
      ]
    },
    {
      "cell_type": "code",
      "metadata": {
        "id": "swrd7LXjurLp",
        "colab_type": "code",
        "colab": {
          "base_uri": "https://localhost:8080/",
          "height": 119
        },
        "outputId": "605173fc-6850-4d55-aeb4-a204edaf11dd"
      },
      "source": [
        "model = SGDClassifier()\n",
        "model.fit(X_res, Y_res)"
      ],
      "execution_count": 69,
      "outputs": [
        {
          "output_type": "execute_result",
          "data": {
            "text/plain": [
              "SGDClassifier(alpha=0.0001, average=False, class_weight=None,\n",
              "              early_stopping=False, epsilon=0.1, eta0=0.0, fit_intercept=True,\n",
              "              l1_ratio=0.15, learning_rate='optimal', loss='hinge',\n",
              "              max_iter=1000, n_iter_no_change=5, n_jobs=None, penalty='l2',\n",
              "              power_t=0.5, random_state=None, shuffle=True, tol=0.001,\n",
              "              validation_fraction=0.1, verbose=0, warm_start=False)"
            ]
          },
          "metadata": {
            "tags": []
          },
          "execution_count": 69
        }
      ]
    },
    {
      "cell_type": "markdown",
      "metadata": {
        "id": "9SzXHpmBvulS",
        "colab_type": "text"
      },
      "source": [
        "Using NaiveBayes Classifier"
      ]
    },
    {
      "cell_type": "code",
      "metadata": {
        "id": "n1OXebOwvyY5",
        "colab_type": "code",
        "colab": {}
      },
      "source": [
        "from sklearn.naive_bayes import GaussianNB \n",
        "model = GaussianNB() \n",
        "model.fit(X_res.toarray(), Y_res) "
      ],
      "execution_count": 0,
      "outputs": []
    },
    {
      "cell_type": "code",
      "metadata": {
        "id": "tT6u7NTzmA2b",
        "colab_type": "code",
        "colab": {}
      },
      "source": [
        "y_pred = model.predict(x_test.toarray())\n",
        "y_pred"
      ],
      "execution_count": 0,
      "outputs": []
    },
    {
      "cell_type": "code",
      "metadata": {
        "id": "A3Pg_ukrn12k",
        "colab_type": "code",
        "colab": {
          "base_uri": "https://localhost:8080/",
          "height": 34
        },
        "outputId": "19078cdd-a0bc-48f8-e28a-5dbdf8574ad7"
      },
      "source": [
        "len(y_pred)"
      ],
      "execution_count": 71,
      "outputs": [
        {
          "output_type": "execute_result",
          "data": {
            "text/plain": [
              "1387"
            ]
          },
          "metadata": {
            "tags": []
          },
          "execution_count": 71
        }
      ]
    },
    {
      "cell_type": "code",
      "metadata": {
        "id": "p8xq8PN9mm7G",
        "colab_type": "code",
        "colab": {
          "base_uri": "https://localhost:8080/",
          "height": 34
        },
        "outputId": "7c74be9b-b3b2-4c9d-bf4c-200b49b364d1"
      },
      "source": [
        "unique, counts = np.unique(y_pred, return_counts=True)\n",
        "dict(zip(unique, counts))"
      ],
      "execution_count": 80,
      "outputs": [
        {
          "output_type": "execute_result",
          "data": {
            "text/plain": [
              "{-1: 90, 0: 1190, 1: 107}"
            ]
          },
          "metadata": {
            "tags": []
          },
          "execution_count": 80
        }
      ]
    },
    {
      "cell_type": "code",
      "metadata": {
        "id": "vFBIjDDpn_Qa",
        "colab_type": "code",
        "colab": {}
      },
      "source": [
        "pred = pd.DataFrame(y_pred)\n",
        "sub_df = test\n",
        "sub_df = sub_df.drop(['original_text','lang','retweet_count','original_author'], axis=1)\n",
        "datasets = pd.concat([sub_df[['id']],pred], axis=1)\n",
        "datasets.columns = ['id','sentiment_class']\n",
        "datasets.sentiment_class = datasets.sentiment_class.astype(int)\n",
        "datasets.to_csv('/content/my_submission4.csv', index=False)"
      ],
      "execution_count": 0,
      "outputs": []
    },
    {
      "cell_type": "code",
      "metadata": {
        "id": "ORSmj1T4oz5e",
        "colab_type": "code",
        "colab": {}
      },
      "source": [
        "datasets"
      ],
      "execution_count": 0,
      "outputs": []
    },
    {
      "cell_type": "code",
      "metadata": {
        "id": "ssyyJqCyhD8D",
        "colab_type": "code",
        "colab": {
          "base_uri": "https://localhost:8080/",
          "height": 34
        },
        "outputId": "a9ca6036-55a8-4c4a-e2e1-d2b94d1574f9"
      },
      "source": [
        "indices = np.argsort(tfidf_vectorizer.idf_)[::-1]\n",
        "features = tfidf_vectorizer.get_feature_names()\n",
        "top_n = 2\n",
        "top_features = [features[i] for i in indices[:top_n]]\n",
        "top_features"
      ],
      "execution_count": 14,
      "outputs": [
        {
          "output_type": "execute_result",
          "data": {
            "text/plain": [
              "['naturephotography', 'marina']"
            ]
          },
          "metadata": {
            "tags": []
          },
          "execution_count": 14
        }
      ]
    },
    {
      "cell_type": "code",
      "metadata": {
        "id": "CSQ2aTNggoHB",
        "colab_type": "code",
        "colab": {}
      },
      "source": [
        "feature_array = np.array(tfidf_vectorizer.get_feature_names())\n",
        "tfidf_sorting = np.argsort(response.toarray()).flatten()[::-1]\n",
        "\n",
        "n = 3\n",
        "top_n = feature_array[tfidf_sorting][:n]\n",
        "top_n"
      ],
      "execution_count": 0,
      "outputs": []
    }
  ]
}