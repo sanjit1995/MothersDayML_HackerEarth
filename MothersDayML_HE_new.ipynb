{
  "nbformat": 4,
  "nbformat_minor": 0,
  "metadata": {
    "colab": {
      "name": "MothersDayML_HE.ipynb",
      "provenance": [],
      "collapsed_sections": [],
      "mount_file_id": "1rKaF9Ctz-aJ_JXlcwdMWGPtIa4wECSjJ",
      "authorship_tag": "ABX9TyOfaqnCiJgBbscsVw9Wiwto",
      "include_colab_link": true
    },
    "kernelspec": {
      "name": "python3",
      "display_name": "Python 3"
    }
  },
  "cells": [
    {
      "cell_type": "markdown",
      "metadata": {
        "id": "view-in-github",
        "colab_type": "text"
      },
      "source": [
        "<a href=\"https://colab.research.google.com/github/sanjit1995/MothersDayML_HackerEarth/blob/master/MothersDayML_HE_new.ipynb\" target=\"_parent\"><img src=\"https://colab.research.google.com/assets/colab-badge.svg\" alt=\"Open In Colab\"/></a>"
      ]
    },
    {
      "cell_type": "code",
      "metadata": {
        "id": "LPktcsuBFQfC",
        "colab_type": "code",
        "colab": {}
      },
      "source": [
        "import pandas as pd\n",
        "import re\n",
        "import numpy as np"
      ],
      "execution_count": 0,
      "outputs": []
    },
    {
      "cell_type": "markdown",
      "metadata": {
        "id": "7OeggwbTZCoq",
        "colab_type": "text"
      },
      "source": [
        "read data and separate"
      ]
    },
    {
      "cell_type": "code",
      "metadata": {
        "id": "GRmhds9oCFsA",
        "colab_type": "code",
        "colab": {}
      },
      "source": [
        "train = pd.read_csv(\"/content/drive/My Drive/Colab Notebooks/data/MothersDayML_HE/train.csv\")\n",
        "test = pd.read_csv(\"/content/drive/My Drive/Colab Notebooks/data/MothersDayML_HE/test.csv\")"
      ],
      "execution_count": 0,
      "outputs": []
    },
    {
      "cell_type": "code",
      "metadata": {
        "id": "F8QSy_F8FcJH",
        "colab_type": "code",
        "outputId": "f4263f03-5cc2-4d7a-b272-63feca29bb81",
        "colab": {
          "base_uri": "https://localhost:8080/",
          "height": 85
        }
      },
      "source": [
        "train['sentiment_class'].value_counts()"
      ],
      "execution_count": 0,
      "outputs": [
        {
          "output_type": "execute_result",
          "data": {
            "text/plain": [
              " 0    1701\n",
              "-1     769\n",
              " 1     765\n",
              "Name: sentiment_class, dtype: int64"
            ]
          },
          "metadata": {
            "tags": []
          },
          "execution_count": 17
        }
      ]
    },
    {
      "cell_type": "code",
      "metadata": {
        "id": "PLroKDmBNLkU",
        "colab_type": "code",
        "colab": {}
      },
      "source": [
        "pd.crosstab(index = train['sentiment_class'], columns=\"Total count\")"
      ],
      "execution_count": 0,
      "outputs": []
    },
    {
      "cell_type": "code",
      "metadata": {
        "id": "S2GAh-ZyMYSF",
        "colab_type": "code",
        "colab": {}
      },
      "source": [
        "train.isnull().sum()"
      ],
      "execution_count": 0,
      "outputs": []
    },
    {
      "cell_type": "code",
      "metadata": {
        "id": "EphpwvuEIVGM",
        "colab_type": "code",
        "colab": {}
      },
      "source": [
        "x_data = train.loc[:, ['original_text']]\n",
        "y_data = train['sentiment_class']"
      ],
      "execution_count": 0,
      "outputs": []
    },
    {
      "cell_type": "code",
      "metadata": {
        "id": "s16YqeiEjY0x",
        "colab_type": "code",
        "colab": {}
      },
      "source": [
        "test_data = test.loc[:, ['original_text']]"
      ],
      "execution_count": 0,
      "outputs": []
    },
    {
      "cell_type": "code",
      "metadata": {
        "id": "vcWg3U2xLCpg",
        "colab_type": "code",
        "outputId": "39e90b38-6a4f-4cf6-9462-24aef6a7a261",
        "colab": {
          "base_uri": "https://localhost:8080/",
          "height": 34
        }
      },
      "source": [
        "x_data.shape"
      ],
      "execution_count": 0,
      "outputs": [
        {
          "output_type": "execute_result",
          "data": {
            "text/plain": [
              "(3235, 1)"
            ]
          },
          "metadata": {
            "tags": []
          },
          "execution_count": 5
        }
      ]
    },
    {
      "cell_type": "code",
      "metadata": {
        "id": "KPnReTOsLMBE",
        "colab_type": "code",
        "outputId": "3f03e4c5-c0ed-44b7-a6a5-2dcbb0495124",
        "colab": {
          "base_uri": "https://localhost:8080/",
          "height": 34
        }
      },
      "source": [
        "y_data.shape"
      ],
      "execution_count": 0,
      "outputs": [
        {
          "output_type": "execute_result",
          "data": {
            "text/plain": [
              "(3235,)"
            ]
          },
          "metadata": {
            "tags": []
          },
          "execution_count": 6
        }
      ]
    },
    {
      "cell_type": "code",
      "metadata": {
        "id": "UOWmaspFjost",
        "colab_type": "code",
        "outputId": "ced26aa4-fdfd-4ad2-de73-b0d607a36dfe",
        "colab": {
          "base_uri": "https://localhost:8080/",
          "height": 34
        }
      },
      "source": [
        "test_data.shape"
      ],
      "execution_count": 0,
      "outputs": [
        {
          "output_type": "execute_result",
          "data": {
            "text/plain": [
              "(1387, 1)"
            ]
          },
          "metadata": {
            "tags": []
          },
          "execution_count": 7
        }
      ]
    },
    {
      "cell_type": "markdown",
      "metadata": {
        "id": "1bBeuKAsZGZ1",
        "colab_type": "text"
      },
      "source": [
        "remove web urls from the texts and special characters except # and '"
      ]
    },
    {
      "cell_type": "markdown",
      "metadata": {
        "id": "e7wxdAeojtzN",
        "colab_type": "text"
      },
      "source": [
        "for train"
      ]
    },
    {
      "cell_type": "code",
      "metadata": {
        "id": "U1L5S_5NRkmS",
        "colab_type": "code",
        "colab": {}
      },
      "source": [
        "x_data['new_text'] = x_data['original_text'].str.replace(r'http\\S+', '', regex=True).replace(r'www\\S+', '', regex=True).replace(r'pic.\\S+', '', regex=True).replace(r'photos.app\\S+', '', regex=True).replace(r'twitter.com\\S+', '', regex=True)"
      ],
      "execution_count": 0,
      "outputs": []
    },
    {
      "cell_type": "code",
      "metadata": {
        "id": "EZU_Hv1AOvkI",
        "colab_type": "code",
        "colab": {}
      },
      "source": [
        "x_data['new_text'] = x_data['new_text'].map(lambda x: re.sub(r'[^A-Za-z\\s\\#\\']+', '', x))"
      ],
      "execution_count": 0,
      "outputs": []
    },
    {
      "cell_type": "markdown",
      "metadata": {
        "id": "eQpfwpdOjv0c",
        "colab_type": "text"
      },
      "source": [
        "for test"
      ]
    },
    {
      "cell_type": "code",
      "metadata": {
        "id": "f0QmPifqjss1",
        "colab_type": "code",
        "colab": {}
      },
      "source": [
        "test_data['new_text'] = test_data['original_text'].str.replace(r'http\\S+', '', regex=True).replace(r'www\\S+', '', regex=True).replace(r'pic.\\S+', '', regex=True).replace(r'photos.app\\S+', '', regex=True).replace(r'twitter.com\\S+', '', regex=True)"
      ],
      "execution_count": 0,
      "outputs": []
    },
    {
      "cell_type": "code",
      "metadata": {
        "id": "DRMQPFgCjyK2",
        "colab_type": "code",
        "colab": {}
      },
      "source": [
        "test_data['new_text'] = test_data['new_text'].map(lambda x: re.sub(r'[^A-Za-z\\s\\#\\']+', '', x))"
      ],
      "execution_count": 0,
      "outputs": []
    },
    {
      "cell_type": "code",
      "metadata": {
        "id": "nMzHrtyhQE8Q",
        "colab_type": "code",
        "colab": {}
      },
      "source": [
        "pd.set_option('display.max_colwidth', None)\n",
        "x_data.head(3)"
      ],
      "execution_count": 0,
      "outputs": []
    },
    {
      "cell_type": "code",
      "metadata": {
        "id": "pQ0LjC34kboy",
        "colab_type": "code",
        "outputId": "1ae5881f-d82d-46fc-cc86-b03b24e4f18a",
        "colab": {
          "base_uri": "https://localhost:8080/",
          "height": 142
        }
      },
      "source": [
        "test_data.head(3)"
      ],
      "execution_count": 0,
      "outputs": [
        {
          "output_type": "execute_result",
          "data": {
            "text/html": [
              "<div>\n",
              "<style scoped>\n",
              "    .dataframe tbody tr th:only-of-type {\n",
              "        vertical-align: middle;\n",
              "    }\n",
              "\n",
              "    .dataframe tbody tr th {\n",
              "        vertical-align: top;\n",
              "    }\n",
              "\n",
              "    .dataframe thead th {\n",
              "        text-align: right;\n",
              "    }\n",
              "</style>\n",
              "<table border=\"1\" class=\"dataframe\">\n",
              "  <thead>\n",
              "    <tr style=\"text-align: right;\">\n",
              "      <th></th>\n",
              "      <th>original_text</th>\n",
              "      <th>new_text</th>\n",
              "    </tr>\n",
              "  </thead>\n",
              "  <tbody>\n",
              "    <tr>\n",
              "      <th>0</th>\n",
              "      <td>3. Yeah, I once cooked potatoes when I was 3 y...</td>\n",
              "      <td>Yeah I once cooked potatoes when I was  years...</td>\n",
              "    </tr>\n",
              "    <tr>\n",
              "      <th>1</th>\n",
              "      <td>Happy Mother's Day to all the mums, step-mums,...</td>\n",
              "      <td>Happy Mother's Day to all the mums stepmums gr...</td>\n",
              "    </tr>\n",
              "    <tr>\n",
              "      <th>2</th>\n",
              "      <td>I love the people from the UK, however, when I...</td>\n",
              "      <td>I love the people from the UK however when I a...</td>\n",
              "    </tr>\n",
              "  </tbody>\n",
              "</table>\n",
              "</div>"
            ],
            "text/plain": [
              "                                       original_text                                           new_text\n",
              "0  3. Yeah, I once cooked potatoes when I was 3 y...   Yeah I once cooked potatoes when I was  years...\n",
              "1  Happy Mother's Day to all the mums, step-mums,...  Happy Mother's Day to all the mums stepmums gr...\n",
              "2  I love the people from the UK, however, when I...  I love the people from the UK however when I a..."
            ]
          },
          "metadata": {
            "tags": []
          },
          "execution_count": 263
        }
      ]
    },
    {
      "cell_type": "code",
      "metadata": {
        "id": "Ccr-e1ITnSOV",
        "colab_type": "code",
        "colab": {}
      },
      "source": [
        "from sklearn.feature_extraction.text import TfidfVectorizer\n",
        "tfidf_vectorizer_test = TfidfVectorizer(\n",
        "    min_df=1,  # min count for relevant vocabulary\n",
        "    max_features=12000,  # maximum number of features\n",
        "    # by their corresponding  ASCII char\n",
        "    lowercase=True,\n",
        "    analyzer='word',  # features made of words\n",
        "    ngram_range=(1, 4),  # features made of a single tokens\n",
        "    use_idf=True,  # enable inverse-document-frequency reweighting\n",
        "    smooth_idf=True,  # prevents zero division for unseen words\n",
        "    sublinear_tf=False)\n",
        "\n",
        "tfidf_df_test = tfidf_vectorizer_test.fit_transform(test_data['new_text'])"
      ],
      "execution_count": 0,
      "outputs": []
    },
    {
      "cell_type": "code",
      "metadata": {
        "id": "qIhxAYhBoDJX",
        "colab_type": "code",
        "colab": {}
      },
      "source": [
        "tfidf_vectorizer_test.get_feature_names()"
      ],
      "execution_count": 0,
      "outputs": []
    },
    {
      "cell_type": "code",
      "metadata": {
        "id": "Uds-1OXspPUZ",
        "colab_type": "code",
        "colab": {
          "base_uri": "https://localhost:8080/",
          "height": 34
        },
        "outputId": "4b5561fd-5366-4e58-a82a-525f62eaba24"
      },
      "source": [
        "len(list(set(tfidf_vectorizer.get_feature_names()) - set(tfidf_vectorizer_test.get_feature_names())))"
      ],
      "execution_count": 50,
      "outputs": [
        {
          "output_type": "execute_result",
          "data": {
            "text/plain": [
              "6315"
            ]
          },
          "metadata": {
            "tags": []
          },
          "execution_count": 50
        }
      ]
    },
    {
      "cell_type": "markdown",
      "metadata": {
        "id": "ErIJk2dRlEJW",
        "colab_type": "text"
      },
      "source": [
        "fit_transform the train_data"
      ]
    },
    {
      "cell_type": "code",
      "metadata": {
        "id": "rau-1_ELcSZT",
        "colab_type": "code",
        "colab": {}
      },
      "source": [
        "from sklearn.feature_extraction.text import TfidfVectorizer\n",
        "tfidf_vectorizer = TfidfVectorizer(\n",
        "    min_df=1,  # min count for relevant vocabulary\n",
        "    max_features=6000,  # maximum number of features\n",
        "    # by their corresponding  ASCII char\n",
        "    lowercase=True,\n",
        "    analyzer='word',  # features made of words\n",
        "    ngram_range=(1, 3),  # features made of a single tokens\n",
        "    use_idf=True,  # enable inverse-document-frequency reweighting\n",
        "    smooth_idf=True,  # prevents zero division for unseen words\n",
        "    sublinear_tf=False)\n",
        "\n",
        "tfidf_df = tfidf_vectorizer.fit_transform(x_data['new_text'])"
      ],
      "execution_count": 0,
      "outputs": []
    },
    {
      "cell_type": "markdown",
      "metadata": {
        "id": "EjXaEfDglIJr",
        "colab_type": "text"
      },
      "source": [
        "just transform the test_data according to train_data"
      ]
    },
    {
      "cell_type": "code",
      "metadata": {
        "id": "T9mZUES2k3pw",
        "colab_type": "code",
        "colab": {}
      },
      "source": [
        "x_test = tfidf_vectorizer.transform(test_data['new_text'])"
      ],
      "execution_count": 0,
      "outputs": []
    },
    {
      "cell_type": "code",
      "metadata": {
        "id": "JRI4COOfcZYC",
        "colab_type": "code",
        "colab": {}
      },
      "source": [
        "tfidf_vectorizer.get_feature_names()"
      ],
      "execution_count": 0,
      "outputs": []
    },
    {
      "cell_type": "code",
      "metadata": {
        "id": "4draYHmeiQeS",
        "colab_type": "code",
        "colab": {}
      },
      "source": [
        "tfidf_df"
      ],
      "execution_count": 0,
      "outputs": []
    },
    {
      "cell_type": "code",
      "metadata": {
        "id": "_DEeigu0iZAj",
        "colab_type": "code",
        "colab": {}
      },
      "source": [
        "x_train = tfidf_df.copy()\n",
        "y_train = y_data.copy()"
      ],
      "execution_count": 0,
      "outputs": []
    },
    {
      "cell_type": "markdown",
      "metadata": {
        "id": "OOwoGwBTrNvb",
        "colab_type": "text"
      },
      "source": [
        "do oversampling"
      ]
    },
    {
      "cell_type": "code",
      "metadata": {
        "id": "l32EDiy1rNHy",
        "colab_type": "code",
        "outputId": "8d3f001b-bf80-42a3-9b18-494d7962c91e",
        "colab": {
          "base_uri": "https://localhost:8080/",
          "height": 71
        }
      },
      "source": [
        "from imblearn.combine import SMOTETomek\n",
        "smk = SMOTETomek(sampling_strategy='not majority', random_state=42)\n",
        "X_res,Y_res=smk.fit_sample(x_train,y_train)"
      ],
      "execution_count": 116,
      "outputs": [
        {
          "output_type": "stream",
          "text": [
            "/usr/local/lib/python3.6/dist-packages/sklearn/utils/deprecation.py:87: FutureWarning: Function safe_indexing is deprecated; safe_indexing is deprecated in version 0.22 and will be removed in version 0.24.\n",
            "  warnings.warn(msg, category=FutureWarning)\n"
          ],
          "name": "stderr"
        }
      ]
    },
    {
      "cell_type": "code",
      "metadata": {
        "id": "l5gOtWCItdYz",
        "colab_type": "code",
        "outputId": "b91f6095-4dd9-48b1-abdb-acc0311f3e47",
        "colab": {
          "base_uri": "https://localhost:8080/",
          "height": 34
        }
      },
      "source": [
        "X_res.shape"
      ],
      "execution_count": 0,
      "outputs": [
        {
          "output_type": "execute_result",
          "data": {
            "text/plain": [
              "(5047, 20000)"
            ]
          },
          "metadata": {
            "tags": []
          },
          "execution_count": 241
        }
      ]
    },
    {
      "cell_type": "code",
      "metadata": {
        "id": "_H3DeR9UYPBG",
        "colab_type": "code",
        "outputId": "3ac9d643-8388-4139-fde6-c2c8b673544d",
        "colab": {
          "base_uri": "https://localhost:8080/",
          "height": 34
        }
      },
      "source": [
        "unique, counts = np.unique(Y_res, return_counts=True)\n",
        "dict(zip(unique, counts))"
      ],
      "execution_count": 74,
      "outputs": [
        {
          "output_type": "execute_result",
          "data": {
            "text/plain": [
              "{-1: 1686, 0: 1677, 1: 1690}"
            ]
          },
          "metadata": {
            "tags": []
          },
          "execution_count": 74
        }
      ]
    },
    {
      "cell_type": "code",
      "metadata": {
        "id": "W7MKsRi5th4K",
        "colab_type": "code",
        "outputId": "7fb93f20-e4d5-4b72-80ad-26ef30c3fb4f",
        "colab": {
          "base_uri": "https://localhost:8080/",
          "height": 34
        }
      },
      "source": [
        "Y_res.shape"
      ],
      "execution_count": 75,
      "outputs": [
        {
          "output_type": "execute_result",
          "data": {
            "text/plain": [
              "(5053,)"
            ]
          },
          "metadata": {
            "tags": []
          },
          "execution_count": 75
        }
      ]
    },
    {
      "cell_type": "code",
      "metadata": {
        "id": "3L-iSYBRihEa",
        "colab_type": "code",
        "outputId": "7189dd2c-5f71-47b7-a846-a4308fea2c0e",
        "colab": {
          "base_uri": "https://localhost:8080/",
          "height": 34
        }
      },
      "source": [
        "x_train.shape"
      ],
      "execution_count": 76,
      "outputs": [
        {
          "output_type": "execute_result",
          "data": {
            "text/plain": [
              "(3235, 15000)"
            ]
          },
          "metadata": {
            "tags": []
          },
          "execution_count": 76
        }
      ]
    },
    {
      "cell_type": "code",
      "metadata": {
        "id": "iCLErhm3ikhl",
        "colab_type": "code",
        "outputId": "7ef90583-495d-45ba-8005-fe32dac34654",
        "colab": {
          "base_uri": "https://localhost:8080/",
          "height": 34
        }
      },
      "source": [
        "y_train.shape"
      ],
      "execution_count": 77,
      "outputs": [
        {
          "output_type": "execute_result",
          "data": {
            "text/plain": [
              "(3235,)"
            ]
          },
          "metadata": {
            "tags": []
          },
          "execution_count": 77
        }
      ]
    },
    {
      "cell_type": "code",
      "metadata": {
        "id": "2PHGTWaTjOdJ",
        "colab_type": "code",
        "outputId": "559dad36-f4d6-494e-ffb9-3322862916a8",
        "colab": {
          "base_uri": "https://localhost:8080/",
          "height": 34
        }
      },
      "source": [
        "x_test.shape"
      ],
      "execution_count": 78,
      "outputs": [
        {
          "output_type": "execute_result",
          "data": {
            "text/plain": [
              "(1387, 15000)"
            ]
          },
          "metadata": {
            "tags": []
          },
          "execution_count": 78
        }
      ]
    },
    {
      "cell_type": "markdown",
      "metadata": {
        "id": "oNJH9qZ1l6re",
        "colab_type": "text"
      },
      "source": [
        "Training part"
      ]
    },
    {
      "cell_type": "markdown",
      "metadata": {
        "id": "VEARL0rSukyi",
        "colab_type": "text"
      },
      "source": [
        "using LogisticRegression"
      ]
    },
    {
      "cell_type": "code",
      "metadata": {
        "id": "Vr7iVIOol7_1",
        "colab_type": "code",
        "outputId": "2d786c5f-c744-438d-e36d-b751800ec047",
        "colab": {
          "base_uri": "https://localhost:8080/",
          "height": 153
        }
      },
      "source": [
        "from sklearn.linear_model import LogisticRegression\n",
        "model = LogisticRegression(max_iter=300, verbose=2)\n",
        "model.fit(X_res, Y_res)"
      ],
      "execution_count": 0,
      "outputs": [
        {
          "output_type": "stream",
          "text": [
            "[Parallel(n_jobs=1)]: Using backend SequentialBackend with 1 concurrent workers.\n",
            "[Parallel(n_jobs=1)]: Done   1 out of   1 | elapsed:    1.4s remaining:    0.0s\n",
            "[Parallel(n_jobs=1)]: Done   1 out of   1 | elapsed:    1.4s finished\n"
          ],
          "name": "stderr"
        },
        {
          "output_type": "execute_result",
          "data": {
            "text/plain": [
              "LogisticRegression(C=1.0, class_weight=None, dual=False, fit_intercept=True,\n",
              "                   intercept_scaling=1, l1_ratio=None, max_iter=300,\n",
              "                   multi_class='auto', n_jobs=None, penalty='l2',\n",
              "                   random_state=None, solver='lbfgs', tol=0.0001, verbose=2,\n",
              "                   warm_start=False)"
            ]
          },
          "metadata": {
            "tags": []
          },
          "execution_count": 300
        }
      ]
    },
    {
      "cell_type": "markdown",
      "metadata": {
        "id": "6L7G8d3OvsQG",
        "colab_type": "text"
      },
      "source": [
        "using SGDClassifier"
      ]
    },
    {
      "cell_type": "code",
      "metadata": {
        "id": "swrd7LXjurLp",
        "colab_type": "code",
        "outputId": "4e4cb3fa-14e8-48fa-ba4a-549b686cdf24",
        "colab": {
          "base_uri": "https://localhost:8080/",
          "height": 119
        }
      },
      "source": [
        "from sklearn.linear_model import SGDClassifier\n",
        "model = SGDClassifier()\n",
        "model.fit(X_res, Y_res)"
      ],
      "execution_count": 61,
      "outputs": [
        {
          "output_type": "execute_result",
          "data": {
            "text/plain": [
              "SGDClassifier(alpha=0.0001, average=False, class_weight=None,\n",
              "              early_stopping=False, epsilon=0.1, eta0=0.0, fit_intercept=True,\n",
              "              l1_ratio=0.15, learning_rate='optimal', loss='hinge',\n",
              "              max_iter=1000, n_iter_no_change=5, n_jobs=None, penalty='l2',\n",
              "              power_t=0.5, random_state=None, shuffle=True, tol=0.001,\n",
              "              validation_fraction=0.1, verbose=0, warm_start=False)"
            ]
          },
          "metadata": {
            "tags": []
          },
          "execution_count": 61
        }
      ]
    },
    {
      "cell_type": "code",
      "metadata": {
        "id": "tZ3oAs4yBQbd",
        "colab_type": "code",
        "outputId": "c1ce5761-89fd-490c-ba1d-91351d24048d",
        "colab": {
          "base_uri": "https://localhost:8080/",
          "height": 34
        }
      },
      "source": [
        "y_pred = model.predict(x_test)\n",
        "y_pred"
      ],
      "execution_count": 110,
      "outputs": [
        {
          "output_type": "execute_result",
          "data": {
            "text/plain": [
              "array([ 1,  0,  0, ..., -1, -1, -1])"
            ]
          },
          "metadata": {
            "tags": []
          },
          "execution_count": 110
        }
      ]
    },
    {
      "cell_type": "markdown",
      "metadata": {
        "id": "9SzXHpmBvulS",
        "colab_type": "text"
      },
      "source": [
        "Using NaiveBayes Classifier"
      ]
    },
    {
      "cell_type": "code",
      "metadata": {
        "id": "n1OXebOwvyY5",
        "colab_type": "code",
        "outputId": "39e29a8c-c492-4bbd-e0db-26778a44eedc",
        "colab": {
          "base_uri": "https://localhost:8080/",
          "height": 34
        }
      },
      "source": [
        "from sklearn.naive_bayes import GaussianNB \n",
        "model = GaussianNB() \n",
        "model.fit(X_res.toarray(), Y_res) "
      ],
      "execution_count": 117,
      "outputs": [
        {
          "output_type": "execute_result",
          "data": {
            "text/plain": [
              "GaussianNB(priors=None, var_smoothing=1e-09)"
            ]
          },
          "metadata": {
            "tags": []
          },
          "execution_count": 117
        }
      ]
    },
    {
      "cell_type": "code",
      "metadata": {
        "id": "tT6u7NTzmA2b",
        "colab_type": "code",
        "outputId": "cc4d2358-0239-4a63-8a57-484535a052c3",
        "colab": {
          "base_uri": "https://localhost:8080/",
          "height": 34
        }
      },
      "source": [
        "y_pred = model.predict(x_test.toarray())\n",
        "y_pred"
      ],
      "execution_count": 118,
      "outputs": [
        {
          "output_type": "execute_result",
          "data": {
            "text/plain": [
              "array([-1, -1, -1, ..., -1,  0, -1])"
            ]
          },
          "metadata": {
            "tags": []
          },
          "execution_count": 118
        }
      ]
    },
    {
      "cell_type": "markdown",
      "metadata": {
        "id": "pqfb4trGZOUN",
        "colab_type": "text"
      },
      "source": [
        "using xgboost"
      ]
    },
    {
      "cell_type": "code",
      "metadata": {
        "id": "HTS8bbH6ZPpP",
        "colab_type": "code",
        "colab": {
          "base_uri": "https://localhost:8080/",
          "height": 136
        },
        "outputId": "c8818f0e-0981-4b34-c48f-57370b693f12"
      },
      "source": [
        "from xgboost.sklearn import XGBClassifier\n",
        "model = XGBClassifier(max_depth=5, objective='multi:softprob', n_estimators=1000, num_classes=3)\n",
        "\n",
        "model.fit(X_res, Y_res) "
      ],
      "execution_count": 109,
      "outputs": [
        {
          "output_type": "execute_result",
          "data": {
            "text/plain": [
              "XGBClassifier(base_score=0.5, booster='gbtree', colsample_bylevel=1,\n",
              "              colsample_bynode=1, colsample_bytree=1, gamma=0,\n",
              "              learning_rate=0.1, max_delta_step=0, max_depth=5,\n",
              "              min_child_weight=1, missing=None, n_estimators=1000, n_jobs=1,\n",
              "              nthread=None, num_classes=3, objective='multi:softprob',\n",
              "              random_state=0, reg_alpha=0, reg_lambda=1, scale_pos_weight=1,\n",
              "              seed=None, silent=None, subsample=1, verbosity=1)"
            ]
          },
          "metadata": {
            "tags": []
          },
          "execution_count": 109
        }
      ]
    },
    {
      "cell_type": "code",
      "metadata": {
        "id": "A3Pg_ukrn12k",
        "colab_type": "code",
        "outputId": "830f932a-fc36-4b97-ebfb-96a51e3b92b9",
        "colab": {
          "base_uri": "https://localhost:8080/",
          "height": 34
        }
      },
      "source": [
        "len(y_pred)"
      ],
      "execution_count": 66,
      "outputs": [
        {
          "output_type": "execute_result",
          "data": {
            "text/plain": [
              "1387"
            ]
          },
          "metadata": {
            "tags": []
          },
          "execution_count": 66
        }
      ]
    },
    {
      "cell_type": "code",
      "metadata": {
        "id": "p8xq8PN9mm7G",
        "colab_type": "code",
        "outputId": "75a81a3a-2ae7-49b6-a027-cf729343f620",
        "colab": {
          "base_uri": "https://localhost:8080/",
          "height": 34
        }
      },
      "source": [
        "unique, counts = np.unique(y_pred, return_counts=True)\n",
        "dict(zip(unique, counts))"
      ],
      "execution_count": 119,
      "outputs": [
        {
          "output_type": "execute_result",
          "data": {
            "text/plain": [
              "{-1: 398, 0: 575, 1: 414}"
            ]
          },
          "metadata": {
            "tags": []
          },
          "execution_count": 119
        }
      ]
    },
    {
      "cell_type": "code",
      "metadata": {
        "id": "vFBIjDDpn_Qa",
        "colab_type": "code",
        "colab": {}
      },
      "source": [
        "pred = pd.DataFrame(y_pred)\n",
        "sub_df = test\n",
        "sub_df = sub_df.drop(['original_text','lang','retweet_count','original_author'], axis=1)\n",
        "datasets = pd.concat([sub_df[['id']],pred], axis=1)\n",
        "datasets.columns = ['id','sentiment_class']\n",
        "datasets.sentiment_class = datasets.sentiment_class.astype(int)\n",
        "datasets.to_csv('/content/my_submission75.csv', index=False)"
      ],
      "execution_count": 0,
      "outputs": []
    },
    {
      "cell_type": "code",
      "metadata": {
        "id": "ORSmj1T4oz5e",
        "colab_type": "code",
        "colab": {}
      },
      "source": [
        "datasets"
      ],
      "execution_count": 0,
      "outputs": []
    },
    {
      "cell_type": "code",
      "metadata": {
        "id": "ssyyJqCyhD8D",
        "colab_type": "code",
        "outputId": "a9ca6036-55a8-4c4a-e2e1-d2b94d1574f9",
        "colab": {
          "base_uri": "https://localhost:8080/",
          "height": 34
        }
      },
      "source": [
        "indices = np.argsort(tfidf_vectorizer.idf_)[::-1]\n",
        "features = tfidf_vectorizer.get_feature_names()\n",
        "top_n = 2\n",
        "top_features = [features[i] for i in indices[:top_n]]\n",
        "top_features"
      ],
      "execution_count": 0,
      "outputs": [
        {
          "output_type": "execute_result",
          "data": {
            "text/plain": [
              "['naturephotography', 'marina']"
            ]
          },
          "metadata": {
            "tags": []
          },
          "execution_count": 14
        }
      ]
    },
    {
      "cell_type": "code",
      "metadata": {
        "id": "CSQ2aTNggoHB",
        "colab_type": "code",
        "colab": {}
      },
      "source": [
        "feature_array = np.array(tfidf_vectorizer.get_feature_names())\n",
        "tfidf_sorting = np.argsort(response.toarray()).flatten()[::-1]\n",
        "\n",
        "n = 3\n",
        "top_n = feature_array[tfidf_sorting][:n]\n",
        "top_n"
      ],
      "execution_count": 0,
      "outputs": []
    }
  ]
}